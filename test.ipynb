{
 "cells": [
  {
   "cell_type": "code",
   "execution_count": 1,
   "id": "e0a1d0d7",
   "metadata": {},
   "outputs": [],
   "source": [
    "%load_ext autoreload\n",
    "%autoreload 2\n",
    "import os\n",
    "os.environ['XLA_PYTHON_CLIENT_PREALLOCATE'] = 'false'\n",
    "from data import *\n",
    "from load_atoms import load_dataset\n",
    "from ase.io import read, extxyz\n",
    "import numpy as np\n",
    "import matplotlib.pyplot as plt\n",
    "import jax\n",
    "import matplotlib.pyplot as plt\n",
    "from model import Nequix\n",
    "import pickle"
   ]
  },
  {
   "cell_type": "code",
   "execution_count": 3,
   "id": "7d094d68",
   "metadata": {},
   "outputs": [],
   "source": [
    "species = [1, 6, 7, 8, 16]\n",
    "atomic_indices = atomic_numbers_to_indices(species)"
   ]
  },
  {
   "cell_type": "code",
   "execution_count": 5,
   "id": "5dd5d9c7",
   "metadata": {},
   "outputs": [
    {
     "data": {
      "application/vnd.jupyter.widget-view+json": {
       "model_id": "6386425599164dc38f580d59eedcb50c",
       "version_major": 2,
       "version_minor": 0
      },
      "text/plain": [
       "Output()"
      ]
     },
     "metadata": {},
     "output_type": "display_data"
    },
    {
     "data": {
      "text/html": [
       "<pre style=\"white-space:pre;overflow-x:auto;line-height:normal;font-family:Menlo,'DejaVu Sans Mono',consolas,'Courier New',monospace\"></pre>\n"
      ],
      "text/plain": []
     },
     "metadata": {},
     "output_type": "display_data"
    }
   ],
   "source": [
    "ds = load_dataset('QM7', 'data')\n",
    "with open('data/densities.pkl', 'rb') as f:\n",
    "    densities = pickle.load(f)\n",
    "\n",
    "for i, atom in enumerate(ds):\n",
    "    atom.set_cell(np.eye(3))\n",
    "    atom.info['P'] = densities['densities'][i]\n",
    "\n",
    "#extxyz.write_extxyz('data/QM7.extxyz', ds)"
   ]
  },
  {
   "cell_type": "code",
   "execution_count": 6,
   "id": "8f924428",
   "metadata": {},
   "outputs": [],
   "source": [
    "graph_ds = Dataset('data/QM7.extxyz', atomic_indices)\n",
    "dl = DataLoader(graph_ds, 23, 490, 15, 210, 64)"
   ]
  },
  {
   "cell_type": "code",
   "execution_count": 7,
   "id": "6e72127f",
   "metadata": {},
   "outputs": [
    {
     "data": {
      "text/plain": [
       "GraphsTuple(nodes={'positions': array([[ 0.99826, -0.00246, -0.00436],\n",
       "       [ 2.09021, -0.00243,  0.00414],\n",
       "       [ 0.63379,  1.02686,  0.00414],\n",
       "       ...,\n",
       "       [ 0.     ,  0.     ,  0.     ],\n",
       "       [ 0.     ,  0.     ,  0.     ],\n",
       "       [ 0.     ,  0.     ,  0.     ]], dtype=float32), 'species': array([1, 0, 0, ..., 0, 0, 0], dtype=int32)}, edges={'shifts': array([[ 0., -1., -1.],\n",
       "       [ 0., -1., -1.],\n",
       "       [ 0., -1., -1.],\n",
       "       ...,\n",
       "       [ 0.,  0.,  0.],\n",
       "       [ 0.,  0.,  0.],\n",
       "       [ 0.,  0.,  0.]], dtype=float32)}, receivers=array([  0,   0,   0, ..., 640, 640, 640], dtype=int32), senders=array([  1,   2,   3, ..., 640, 640, 640], dtype=int32), globals=array([[[ 2.06576157e+00, -2.03388795e-01, -1.29640584e-05, ...,\n",
       "          0.00000000e+00,  0.00000000e+00,  0.00000000e+00],\n",
       "        [-2.03388795e-01,  7.97058642e-01, -7.90893228e-06, ...,\n",
       "          0.00000000e+00,  0.00000000e+00,  0.00000000e+00],\n",
       "        [-1.29640584e-05, -7.90893228e-06,  6.51722670e-01, ...,\n",
       "          0.00000000e+00,  0.00000000e+00,  0.00000000e+00],\n",
       "        ...,\n",
       "        [ 0.00000000e+00,  0.00000000e+00,  0.00000000e+00, ...,\n",
       "          0.00000000e+00,  0.00000000e+00,  0.00000000e+00],\n",
       "        [ 0.00000000e+00,  0.00000000e+00,  0.00000000e+00, ...,\n",
       "          0.00000000e+00,  0.00000000e+00,  0.00000000e+00],\n",
       "        [ 0.00000000e+00,  0.00000000e+00,  0.00000000e+00, ...,\n",
       "          0.00000000e+00,  0.00000000e+00,  0.00000000e+00]],\n",
       "\n",
       "       [[ 2.06602335e+00, -2.06808448e-01, -7.40641612e-04, ...,\n",
       "          0.00000000e+00,  0.00000000e+00,  0.00000000e+00],\n",
       "        [-2.06808448e-01,  8.15664172e-01,  1.70609541e-02, ...,\n",
       "          0.00000000e+00,  0.00000000e+00,  0.00000000e+00],\n",
       "        [-7.40641612e-04,  1.70609541e-02,  6.35309517e-01, ...,\n",
       "          0.00000000e+00,  0.00000000e+00,  0.00000000e+00],\n",
       "        ...,\n",
       "        [ 0.00000000e+00,  0.00000000e+00,  0.00000000e+00, ...,\n",
       "          0.00000000e+00,  0.00000000e+00,  0.00000000e+00],\n",
       "        [ 0.00000000e+00,  0.00000000e+00,  0.00000000e+00, ...,\n",
       "          0.00000000e+00,  0.00000000e+00,  0.00000000e+00],\n",
       "        [ 0.00000000e+00,  0.00000000e+00,  0.00000000e+00, ...,\n",
       "          0.00000000e+00,  0.00000000e+00,  0.00000000e+00]],\n",
       "\n",
       "       [[ 2.07025075e+00, -2.10493401e-01,  2.05176719e-03, ...,\n",
       "          0.00000000e+00,  0.00000000e+00,  0.00000000e+00],\n",
       "        [-2.10493401e-01,  7.93588698e-01, -3.36031392e-02, ...,\n",
       "          0.00000000e+00,  0.00000000e+00,  0.00000000e+00],\n",
       "        [ 2.05176719e-03, -3.36031392e-02,  6.08141005e-01, ...,\n",
       "          0.00000000e+00,  0.00000000e+00,  0.00000000e+00],\n",
       "        ...,\n",
       "        [ 0.00000000e+00,  0.00000000e+00,  0.00000000e+00, ...,\n",
       "          0.00000000e+00,  0.00000000e+00,  0.00000000e+00],\n",
       "        [ 0.00000000e+00,  0.00000000e+00,  0.00000000e+00, ...,\n",
       "          0.00000000e+00,  0.00000000e+00,  0.00000000e+00],\n",
       "        [ 0.00000000e+00,  0.00000000e+00,  0.00000000e+00, ...,\n",
       "          0.00000000e+00,  0.00000000e+00,  0.00000000e+00]],\n",
       "\n",
       "       ...,\n",
       "\n",
       "       [[ 2.06634307e+00, -2.08524704e-01, -1.93840207e-03, ...,\n",
       "         -3.03015439e-03,  7.25769132e-05,  7.61684423e-05],\n",
       "        [-2.08524704e-01,  8.22620094e-01,  2.25216672e-02, ...,\n",
       "          1.32760024e-02, -3.83375591e-05, -4.01805228e-05],\n",
       "        [-1.93840207e-03,  2.25216672e-02,  6.35198712e-01, ...,\n",
       "          1.67634673e-02,  1.30848624e-04,  1.64884579e-04],\n",
       "        ...,\n",
       "        [-3.03015439e-03,  1.32760024e-02,  1.67634673e-02, ...,\n",
       "          6.09275222e-01, -1.31810009e-01, -1.31630570e-01],\n",
       "        [ 7.25769132e-05, -3.83375591e-05,  1.30848624e-04, ...,\n",
       "         -1.31810009e-01,  6.34968519e-01, -1.46427840e-01],\n",
       "        [ 7.61684423e-05, -4.01805228e-05,  1.64884579e-04, ...,\n",
       "         -1.31630570e-01, -1.46427840e-01,  6.34844959e-01]],\n",
       "\n",
       "       [[ 2.06636357e+00, -2.08446622e-01, -3.51506198e-04, ...,\n",
       "          5.14841871e-04, -2.89838295e-03,  5.25363837e-04],\n",
       "        [-2.08446622e-01,  8.22788775e-01,  1.53407557e-02, ...,\n",
       "         -1.87089818e-03,  1.26819247e-02, -1.91648526e-03],\n",
       "        [-3.51506198e-04,  1.53407557e-02,  6.28762662e-01, ...,\n",
       "         -2.44313944e-03,  1.69905629e-02, -2.39383429e-03],\n",
       "        ...,\n",
       "        [ 5.14841871e-04, -1.87089818e-03, -2.44313944e-03, ...,\n",
       "          6.17856145e-01, -1.20522045e-01, -1.26195952e-01],\n",
       "        [-2.89838295e-03,  1.26819247e-02,  1.69905629e-02, ...,\n",
       "         -1.20522045e-01,  6.19748473e-01, -1.20478526e-01],\n",
       "        [ 5.25363837e-04, -1.91648526e-03, -2.39383429e-03, ...,\n",
       "         -1.26195952e-01, -1.20478526e-01,  6.17493331e-01]],\n",
       "\n",
       "       [[ 0.00000000e+00,  0.00000000e+00,  0.00000000e+00, ...,\n",
       "          0.00000000e+00,  0.00000000e+00,  0.00000000e+00],\n",
       "        [ 0.00000000e+00,  0.00000000e+00,  0.00000000e+00, ...,\n",
       "          0.00000000e+00,  0.00000000e+00,  0.00000000e+00],\n",
       "        [ 0.00000000e+00,  0.00000000e+00,  0.00000000e+00, ...,\n",
       "          0.00000000e+00,  0.00000000e+00,  0.00000000e+00],\n",
       "        ...,\n",
       "        [ 0.00000000e+00,  0.00000000e+00,  0.00000000e+00, ...,\n",
       "          0.00000000e+00,  0.00000000e+00,  0.00000000e+00],\n",
       "        [ 0.00000000e+00,  0.00000000e+00,  0.00000000e+00, ...,\n",
       "          0.00000000e+00,  0.00000000e+00,  0.00000000e+00],\n",
       "        [ 0.00000000e+00,  0.00000000e+00,  0.00000000e+00, ...,\n",
       "          0.00000000e+00,  0.00000000e+00,  0.00000000e+00]]],\n",
       "      dtype=float32), n_node=array([  5,   8,   6,   4,   9,   7,   9,   9,  11,   9,   7,   8,  10,\n",
       "         6,  10,   7,  10,  12,  10,  11,  11,  13,   7,   5,  13,   9,\n",
       "        12,  13,  11,  13,  11,  11,   9,  10,  10,  12,   8,  12,  12,\n",
       "        10,  10,  12,  10,  10,   6,  10,   8,   9,  14,   9,   9,   9,\n",
       "        11,  14,  10,   8,   6,  12,  12,  15,  13,  13,  15,  15, 417],\n",
       "      dtype=int32), n_edge=array([  20,   56,   30,   12,   72,   42,   72,   72,  110,   72,   42,\n",
       "         56,   90,   30,   90,   42,   78,  130,   88,  110,  110,  154,\n",
       "         42,   20,  156,   72,  132,  154,  110,  156,  110,  108,   70,\n",
       "         90,   90,  132,   56,  132,  132,   90,   90,  130,   88,   90,\n",
       "         30,   88,   54,   70,  180,   72,   72,   70,  110,  182,   88,\n",
       "         54,   28,  128,  132,  208,  154,  154,  184,  192, 8706],\n",
       "      dtype=int32))"
      ]
     },
     "execution_count": 7,
     "metadata": {},
     "output_type": "execute_result"
    }
   ],
   "source": [
    "a, gt, mask = next(iter(dl))\n",
    "a"
   ]
  },
  {
   "cell_type": "code",
   "execution_count": 69,
   "id": "7d8409f8",
   "metadata": {},
   "outputs": [
    {
     "name": "stderr",
     "output_type": "stream",
     "text": [
      "/Users/luka/nequix/.venv/lib/python3.10/site-packages/pyscf/gto/basis/__init__.py:661: UserWarning: Basis may be available in basis-set-exchange. It is recommended to install basis-set-exchange: pip install basis-set-exchange\n",
      "  warnings.warn(\n"
     ]
    },
    {
     "ename": "BasisNotFoundError",
     "evalue": "Unknown basis format or basis name for def2-tvp",
     "output_type": "error",
     "traceback": [
      "\u001b[0;31m---------------------------------------------------------------------------\u001b[0m",
      "\u001b[0;31mBasisNotFoundError\u001b[0m                        Traceback (most recent call last)",
      "Cell \u001b[0;32mIn[69], line 1\u001b[0m\n\u001b[0;32m----> 1\u001b[0m model \u001b[38;5;241m=\u001b[39m \u001b[43mNequix\u001b[49m\u001b[43m(\u001b[49m\u001b[43mjax\u001b[49m\u001b[38;5;241;43m.\u001b[39;49m\u001b[43mrandom\u001b[49m\u001b[38;5;241;43m.\u001b[39;49m\u001b[43mkey\u001b[49m\u001b[43m(\u001b[49m\u001b[38;5;241;43m69\u001b[39;49m\u001b[43m)\u001b[49m\u001b[43m,\u001b[49m\u001b[43m \u001b[49m\u001b[43mbasis\u001b[49m\u001b[38;5;241;43m=\u001b[39;49m\u001b[38;5;124;43m'\u001b[39;49m\u001b[38;5;124;43mdef2-tvp\u001b[39;49m\u001b[38;5;124;43m'\u001b[39;49m\u001b[43m)\u001b[49m\n",
      "    \u001b[0;31m[... skipping hidden 2 frame]\u001b[0m\n",
      "File \u001b[0;32m~/nequix/model.py:247\u001b[0m, in \u001b[0;36mNequix.__init__\u001b[0;34m(self, key, n_species, lmax, cutoff, hidden_irreps, n_layers, radial_basis_size, radial_mlp_size, radial_mlp_layers, radial_polynomial_p, mlp_init_scale, index_weights, avg_n_neighbors, layer_norm, basis, max_orbitals)\u001b[0m\n\u001b[1;32m    245\u001b[0m \u001b[38;5;28mself\u001b[39m\u001b[38;5;241m.\u001b[39mradial_basis_size \u001b[38;5;241m=\u001b[39m radial_basis_size\n\u001b[1;32m    246\u001b[0m \u001b[38;5;28mself\u001b[39m\u001b[38;5;241m.\u001b[39mradial_polynomial_p \u001b[38;5;241m=\u001b[39m radial_polynomial_p\n\u001b[0;32m--> 247\u001b[0m species_orbital_irreps \u001b[38;5;241m=\u001b[39m \u001b[43mbasis_irreps_e3nn\u001b[49m\u001b[43m(\u001b[49m\u001b[43mbasis\u001b[49m\u001b[43m)\u001b[49m\n\u001b[1;32m    248\u001b[0m \u001b[38;5;28mself\u001b[39m\u001b[38;5;241m.\u001b[39mspecies_orbital_irreps \u001b[38;5;241m=\u001b[39m [e3nn\u001b[38;5;241m.\u001b[39mIrreps(s) \u001b[38;5;28;01mfor\u001b[39;00m s \u001b[38;5;129;01min\u001b[39;00m species_orbital_irreps]\n\u001b[1;32m    249\u001b[0m \u001b[38;5;28mself\u001b[39m\u001b[38;5;241m.\u001b[39mspecies_orbital_dims \u001b[38;5;241m=\u001b[39m jnp\u001b[38;5;241m.\u001b[39marray(\n\u001b[1;32m    250\u001b[0m     [irr\u001b[38;5;241m.\u001b[39mdim \u001b[38;5;28;01mfor\u001b[39;00m irr \u001b[38;5;129;01min\u001b[39;00m \u001b[38;5;28mself\u001b[39m\u001b[38;5;241m.\u001b[39mspecies_orbital_irreps], dtype\u001b[38;5;241m=\u001b[39mjnp\u001b[38;5;241m.\u001b[39mint32\n\u001b[1;32m    251\u001b[0m )\n",
      "File \u001b[0;32m~/nequix/data.py:496\u001b[0m, in \u001b[0;36mbasis_irreps_e3nn\u001b[0;34m(basis_name, atoms)\u001b[0m\n\u001b[1;32m    494\u001b[0m final_irreps_list \u001b[38;5;241m=\u001b[39m []\n\u001b[1;32m    495\u001b[0m \u001b[38;5;28;01mfor\u001b[39;00m atom \u001b[38;5;129;01min\u001b[39;00m atoms:\n\u001b[0;32m--> 496\u001b[0m     basis_data \u001b[38;5;241m=\u001b[39m \u001b[43mgto\u001b[49m\u001b[38;5;241;43m.\u001b[39;49m\u001b[43mbasis\u001b[49m\u001b[38;5;241;43m.\u001b[39;49m\u001b[43mload\u001b[49m\u001b[43m(\u001b[49m\u001b[43mbasis_name\u001b[49m\u001b[43m,\u001b[49m\u001b[43m \u001b[49m\u001b[43matom\u001b[49m\u001b[43m)\u001b[49m\n\u001b[1;32m    498\u001b[0m     angular_momenta \u001b[38;5;241m=\u001b[39m [shell_info[\u001b[38;5;241m0\u001b[39m] \u001b[38;5;28;01mfor\u001b[39;00m shell_info \u001b[38;5;129;01min\u001b[39;00m basis_data]\n\u001b[1;32m    499\u001b[0m     l_counts \u001b[38;5;241m=\u001b[39m Counter(angular_momenta)\n",
      "File \u001b[0;32m~/nequix/.venv/lib/python3.10/site-packages/pyscf/gto/basis/__init__.py:673\u001b[0m, in \u001b[0;36mload\u001b[0;34m(filename_or_basisname, symb, optimize)\u001b[0m\n\u001b[1;32m    670\u001b[0m             \u001b[38;5;28;01mraise\u001b[39;00m BasisNotFoundError(filename_or_basisname)\n\u001b[1;32m    671\u001b[0m         \u001b[38;5;28;01mreturn\u001b[39;00m bse\u001b[38;5;241m.\u001b[39m_orbital_basis(bse_obj)[\u001b[38;5;241m0\u001b[39m][symb]\n\u001b[0;32m--> 673\u001b[0m     \u001b[38;5;28;01mraise\u001b[39;00m BasisNotFoundError(\u001b[38;5;124mf\u001b[39m\u001b[38;5;124m'\u001b[39m\u001b[38;5;124mUnknown basis format or basis name for \u001b[39m\u001b[38;5;132;01m{\u001b[39;00mfilename_or_basisname\u001b[38;5;132;01m}\u001b[39;00m\u001b[38;5;124m'\u001b[39m)\n\u001b[1;32m    675\u001b[0m \u001b[38;5;28;01mif\u001b[39;00m \u001b[38;5;124m'\u001b[39m\u001b[38;5;124mdat\u001b[39m\u001b[38;5;124m'\u001b[39m \u001b[38;5;129;01min\u001b[39;00m basmod:\n\u001b[1;32m    676\u001b[0m     b \u001b[38;5;241m=\u001b[39m fload(join(basis_dir, basmod), symb, optimize)\n",
      "\u001b[0;31mBasisNotFoundError\u001b[0m: Unknown basis format or basis name for def2-tvp"
     ]
    }
   ],
   "source": [
    "model = Nequix(jax.random.key(69), basis='def2-tvp')"
   ]
  },
  {
   "cell_type": "code",
   "execution_count": 68,
   "id": "2028f5d4",
   "metadata": {},
   "outputs": [
    {
     "name": "stdout",
     "output_type": "stream",
     "text": [
      "1x0e+1x1o+1x2e+1x3o\n",
      "[[ 1.0000000e+00  1.7319982e+00  4.7584545e-05 ... -1.2611525e-02\n",
      "  -1.4073990e-04 -4.8840281e-02]\n",
      " [ 1.0000000e+00 -5.7810885e-01  1.6326692e+00 ...  4.3417774e-02\n",
      "  -5.3772956e-01 -5.4404601e-03]\n",
      " [ 1.0000000e+00 -5.8880150e-01 -8.3314413e-01 ...  2.0540701e-01\n",
      "  -1.3246509e+00  5.1786602e-01]\n",
      " ...\n",
      " [ 1.0000000e+00  0.0000000e+00  0.0000000e+00 ...  0.0000000e+00\n",
      "   0.0000000e+00  0.0000000e+00]\n",
      " [ 1.0000000e+00  0.0000000e+00  0.0000000e+00 ...  0.0000000e+00\n",
      "   0.0000000e+00  0.0000000e+00]\n",
      " [ 1.0000000e+00  0.0000000e+00  0.0000000e+00 ...  0.0000000e+00\n",
      "   0.0000000e+00  0.0000000e+00]]\n"
     ]
    }
   ],
   "source": [
    "a, gt, mask = next(iter(dl))\n",
    "P = model(a)"
   ]
  },
  {
   "cell_type": "code",
   "execution_count": 15,
   "id": "5cdbb05d",
   "metadata": {},
   "outputs": [],
   "source": [
    "P = gt[0]"
   ]
  },
  {
   "cell_type": "code",
   "execution_count": 16,
   "id": "ed5a57c9",
   "metadata": {},
   "outputs": [
    {
     "data": {
      "text/plain": [
       "<matplotlib.image.AxesImage at 0x17ffc4c70>"
      ]
     },
     "execution_count": 16,
     "metadata": {},
     "output_type": "execute_result"
    },
    {
     "data": {
      "image/png": "[encoded data removed]",
      "text/plain": [
       "<Figure size 640x480 with 1 Axes>"
      ]
     },
     "metadata": {},
     "output_type": "display_data"
    }
   ],
   "source": [
    "plt.imshow(P)"
   ]
  },
  {
   "cell_type": "code",
   "execution_count": 17,
   "id": "cf9a3228",
   "metadata": {},
   "outputs": [],
   "source": [
    "import pyscf"
   ]
  },
  {
   "cell_type": "code",
   "execution_count": 26,
   "id": "49f367a1",
   "metadata": {},
   "outputs": [],
   "source": [
    "xyz = a.nodes['positions'][:5]\n",
    "species = a.nodes['species'][:5]"
   ]
  },
  {
   "cell_type": "code",
   "execution_count": 33,
   "id": "1ac2f9e7",
   "metadata": {},
   "outputs": [],
   "source": [
    "species_elemental = np.array([6,1,1,1,1])"
   ]
  },
  {
   "cell_type": "code",
   "execution_count": 60,
   "id": "927c83b8",
   "metadata": {},
   "outputs": [
    {
     "data": {
      "text/plain": [
       "<pyscf.gto.mole.Mole at 0x374ba21a0>"
      ]
     },
     "execution_count": 60,
     "metadata": {},
     "output_type": "execute_result"
    }
   ],
   "source": [
    "mol = pyscf.gto.Mole(\n",
    "    atom=list(zip(species_elemental, xyz)), \n",
    "    basis='sto-3g',\n",
    "    aux_basis='def2-svp'\n",
    "    )\n",
    "mol.build()"
   ]
  },
  {
   "cell_type": "code",
   "execution_count": 61,
   "id": "9deb8365",
   "metadata": {},
   "outputs": [],
   "source": [
    "R_mat = mol.intor('int3c1e')"
   ]
  },
  {
   "cell_type": "code",
   "execution_count": null,
   "id": "a81cd279",
   "metadata": {},
   "outputs": [],
   "source": [
    "mol.intor"
   ]
  },
  {
   "cell_type": "code",
   "execution_count": 62,
   "id": "d1b95e7c",
   "metadata": {},
   "outputs": [
    {
     "data": {
      "text/plain": [
       "(9, 9, 9)"
      ]
     },
     "execution_count": 62,
     "metadata": {},
     "output_type": "execute_result"
    }
   ],
   "source": [
    "R_mat.shape"
   ]
  },
  {
   "cell_type": "code",
   "execution_count": 53,
   "id": "3b31dd09",
   "metadata": {},
   "outputs": [
    {
     "name": "stdout",
     "output_type": "stream",
     "text": [
      "converged SCF energy = -39.7265814242284\n"
     ]
    }
   ],
   "source": [
    "mf = pyscf.scf.RHF(mol)\n",
    "mf.kernel()\n",
    "c = mf.mo_coeff\n",
    "P = c @ np.diag(mf.mo_occ) @ c.T"
   ]
  },
  {
   "cell_type": "code",
   "execution_count": 63,
   "id": "99b791f4",
   "metadata": {},
   "outputs": [],
   "source": [
    "P_dr = np.einsum('ijk, jk -> i', R_mat, P)"
   ]
  },
  {
   "cell_type": "code",
   "execution_count": 65,
   "id": "df73936d",
   "metadata": {},
   "outputs": [
    {
     "data": {
      "text/plain": [
       "(9,)"
      ]
     },
     "execution_count": 65,
     "metadata": {},
     "output_type": "execute_result"
    }
   ],
   "source": [
    "P_dr.shape"
   ]
  }
 ],
 "metadata": {
  "kernelspec": {
   "display_name": ".venv",
   "language": "python",
   "name": "python3"
  },
  "language_info": {
   "codemirror_mode": {
    "name": "ipython",
    "version": 3
   },
   "file_extension": ".py",
   "mimetype": "text/x-python",
   "name": "python",
   "nbconvert_exporter": "python",
   "pygments_lexer": "ipython3",
   "version": "3.10.17"
  }
 },
 "nbformat": 4,
 "nbformat_minor": 5
}
