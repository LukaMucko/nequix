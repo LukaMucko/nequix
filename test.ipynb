{
 "cells": [
  {
   "cell_type": "code",
   "execution_count": 1,
   "id": "e0a1d0d7",
   "metadata": {},
   "outputs": [],
   "source": [
    "%load_ext autoreload\n",
    "%autoreload 2\n",
    "import os\n",
    "os.environ['XLA_PYTHON_CLIENT_PREALLOCATE'] = 'false'\n",
    "from data import *\n",
    "from load_atoms import load_dataset\n",
    "from ase.io import read, extxyz\n",
    "import numpy as np\n",
    "import matplotlib.pyplot as plt\n",
    "import jax\n",
    "import matplotlib.pyplot as plt\n",
    "from model import Nequix\n",
    "import pickle"
   ]
  },
  {
   "cell_type": "code",
   "execution_count": 2,
   "id": "7d094d68",
   "metadata": {},
   "outputs": [],
   "source": [
    "species = [1, 6, 7, 8, 16]\n",
    "atomic_indices = atomic_numbers_to_indices(species)"
   ]
  },
  {
   "cell_type": "code",
   "execution_count": null,
   "id": "5dd5d9c7",
   "metadata": {},
   "outputs": [
    {
     "data": {
      "application/vnd.jupyter.widget-view+json": {
       "model_id": "70bb1a2053eb40599c16e7aaf5e705d5",
       "version_major": 2,
       "version_minor": 0
      },
      "text/plain": [
       "Output()"
      ]
     },
     "metadata": {},
     "output_type": "display_data"
    },
    {
     "data": {
      "text/html": [
       "<pre style=\"white-space:pre;overflow-x:auto;line-height:normal;font-family:Menlo,'DejaVu Sans Mono',consolas,'Courier New',monospace\"></pre>\n"
      ],
      "text/plain": []
     },
     "metadata": {},
     "output_type": "display_data"
    }
   ],
   "source": [
    "ds = load_dataset('QM7', 'data')\n",
    "with open('data/densities.pkl', 'rb') as f:\n",
    "    densities = pickle.load(f)\n",
    "\n",
    "for i, atom in enumerate(ds):\n",
    "    atom.set_cell(np.eye(3))\n",
    "    atom.info['P'] = densities['densities'][i]\n",
    "\n",
    "extxyz.write_extxyz('data/QM7.extxyz', ds)"
   ]
  },
  {
   "cell_type": "code",
   "execution_count": 8,
   "id": "8f924428",
   "metadata": {},
   "outputs": [],
   "source": [
    "graph_ds = Dataset('data/QM7.extxyz', atomic_indices)\n",
    "dl = DataLoader(graph_ds, 23, 490, 15, 210, 64)"
   ]
  },
  {
   "cell_type": "code",
   "execution_count": 10,
   "id": "6e72127f",
   "metadata": {},
   "outputs": [
    {
     "data": {
      "text/plain": [
       "GraphsTuple(nodes={'positions': array([[ 0.99826, -0.00246, -0.00436],\n",
       "       [ 2.09021, -0.00243,  0.00414],\n",
       "       [ 0.63379,  1.02686,  0.00414],\n",
       "       ...,\n",
       "       [ 0.     ,  0.     ,  0.     ],\n",
       "       [ 0.     ,  0.     ,  0.     ],\n",
       "       [ 0.     ,  0.     ,  0.     ]], dtype=float32), 'species': array([1, 0, 0, ..., 0, 0, 0], dtype=int32)}, edges={'shifts': array([[ 0., -1., -1.],\n",
       "       [ 0., -1., -1.],\n",
       "       [ 0., -1., -1.],\n",
       "       ...,\n",
       "       [ 0.,  0.,  0.],\n",
       "       [ 0.,  0.,  0.],\n",
       "       [ 0.,  0.,  0.]], dtype=float32)}, receivers=array([  0,   0,   0, ..., 640, 640, 640], dtype=int32), senders=array([  1,   2,   3, ..., 640, 640, 640], dtype=int32), globals=array([[[ 2.06576157e+00, -2.03388795e-01, -1.29640584e-05, ...,\n",
       "          0.00000000e+00,  0.00000000e+00,  0.00000000e+00],\n",
       "        [-2.03388795e-01,  7.97058642e-01, -7.90893228e-06, ...,\n",
       "          0.00000000e+00,  0.00000000e+00,  0.00000000e+00],\n",
       "        [-1.29640584e-05, -7.90893228e-06,  6.51722670e-01, ...,\n",
       "          0.00000000e+00,  0.00000000e+00,  0.00000000e+00],\n",
       "        ...,\n",
       "        [ 0.00000000e+00,  0.00000000e+00,  0.00000000e+00, ...,\n",
       "          0.00000000e+00,  0.00000000e+00,  0.00000000e+00],\n",
       "        [ 0.00000000e+00,  0.00000000e+00,  0.00000000e+00, ...,\n",
       "          0.00000000e+00,  0.00000000e+00,  0.00000000e+00],\n",
       "        [ 0.00000000e+00,  0.00000000e+00,  0.00000000e+00, ...,\n",
       "          0.00000000e+00,  0.00000000e+00,  0.00000000e+00]],\n",
       "\n",
       "       [[ 2.06602335e+00, -2.06808448e-01, -7.40641612e-04, ...,\n",
       "          0.00000000e+00,  0.00000000e+00,  0.00000000e+00],\n",
       "        [-2.06808448e-01,  8.15664172e-01,  1.70609541e-02, ...,\n",
       "          0.00000000e+00,  0.00000000e+00,  0.00000000e+00],\n",
       "        [-7.40641612e-04,  1.70609541e-02,  6.35309517e-01, ...,\n",
       "          0.00000000e+00,  0.00000000e+00,  0.00000000e+00],\n",
       "        ...,\n",
       "        [ 0.00000000e+00,  0.00000000e+00,  0.00000000e+00, ...,\n",
       "          0.00000000e+00,  0.00000000e+00,  0.00000000e+00],\n",
       "        [ 0.00000000e+00,  0.00000000e+00,  0.00000000e+00, ...,\n",
       "          0.00000000e+00,  0.00000000e+00,  0.00000000e+00],\n",
       "        [ 0.00000000e+00,  0.00000000e+00,  0.00000000e+00, ...,\n",
       "          0.00000000e+00,  0.00000000e+00,  0.00000000e+00]],\n",
       "\n",
       "       [[ 2.07025075e+00, -2.10493401e-01,  2.05176719e-03, ...,\n",
       "          0.00000000e+00,  0.00000000e+00,  0.00000000e+00],\n",
       "        [-2.10493401e-01,  7.93588698e-01, -3.36031392e-02, ...,\n",
       "          0.00000000e+00,  0.00000000e+00,  0.00000000e+00],\n",
       "        [ 2.05176719e-03, -3.36031392e-02,  6.08141005e-01, ...,\n",
       "          0.00000000e+00,  0.00000000e+00,  0.00000000e+00],\n",
       "        ...,\n",
       "        [ 0.00000000e+00,  0.00000000e+00,  0.00000000e+00, ...,\n",
       "          0.00000000e+00,  0.00000000e+00,  0.00000000e+00],\n",
       "        [ 0.00000000e+00,  0.00000000e+00,  0.00000000e+00, ...,\n",
       "          0.00000000e+00,  0.00000000e+00,  0.00000000e+00],\n",
       "        [ 0.00000000e+00,  0.00000000e+00,  0.00000000e+00, ...,\n",
       "          0.00000000e+00,  0.00000000e+00,  0.00000000e+00]],\n",
       "\n",
       "       ...,\n",
       "\n",
       "       [[ 2.06634307e+00, -2.08524704e-01, -1.93840207e-03, ...,\n",
       "         -3.03015439e-03,  7.25769132e-05,  7.61684423e-05],\n",
       "        [-2.08524704e-01,  8.22620094e-01,  2.25216672e-02, ...,\n",
       "          1.32760024e-02, -3.83375591e-05, -4.01805228e-05],\n",
       "        [-1.93840207e-03,  2.25216672e-02,  6.35198712e-01, ...,\n",
       "          1.67634673e-02,  1.30848624e-04,  1.64884579e-04],\n",
       "        ...,\n",
       "        [-3.03015439e-03,  1.32760024e-02,  1.67634673e-02, ...,\n",
       "          6.09275222e-01, -1.31810009e-01, -1.31630570e-01],\n",
       "        [ 7.25769132e-05, -3.83375591e-05,  1.30848624e-04, ...,\n",
       "         -1.31810009e-01,  6.34968519e-01, -1.46427840e-01],\n",
       "        [ 7.61684423e-05, -4.01805228e-05,  1.64884579e-04, ...,\n",
       "         -1.31630570e-01, -1.46427840e-01,  6.34844959e-01]],\n",
       "\n",
       "       [[ 2.06636357e+00, -2.08446622e-01, -3.51506198e-04, ...,\n",
       "          5.14841871e-04, -2.89838295e-03,  5.25363837e-04],\n",
       "        [-2.08446622e-01,  8.22788775e-01,  1.53407557e-02, ...,\n",
       "         -1.87089818e-03,  1.26819247e-02, -1.91648526e-03],\n",
       "        [-3.51506198e-04,  1.53407557e-02,  6.28762662e-01, ...,\n",
       "         -2.44313944e-03,  1.69905629e-02, -2.39383429e-03],\n",
       "        ...,\n",
       "        [ 5.14841871e-04, -1.87089818e-03, -2.44313944e-03, ...,\n",
       "          6.17856145e-01, -1.20522045e-01, -1.26195952e-01],\n",
       "        [-2.89838295e-03,  1.26819247e-02,  1.69905629e-02, ...,\n",
       "         -1.20522045e-01,  6.19748473e-01, -1.20478526e-01],\n",
       "        [ 5.25363837e-04, -1.91648526e-03, -2.39383429e-03, ...,\n",
       "         -1.26195952e-01, -1.20478526e-01,  6.17493331e-01]],\n",
       "\n",
       "       [[ 0.00000000e+00,  0.00000000e+00,  0.00000000e+00, ...,\n",
       "          0.00000000e+00,  0.00000000e+00,  0.00000000e+00],\n",
       "        [ 0.00000000e+00,  0.00000000e+00,  0.00000000e+00, ...,\n",
       "          0.00000000e+00,  0.00000000e+00,  0.00000000e+00],\n",
       "        [ 0.00000000e+00,  0.00000000e+00,  0.00000000e+00, ...,\n",
       "          0.00000000e+00,  0.00000000e+00,  0.00000000e+00],\n",
       "        ...,\n",
       "        [ 0.00000000e+00,  0.00000000e+00,  0.00000000e+00, ...,\n",
       "          0.00000000e+00,  0.00000000e+00,  0.00000000e+00],\n",
       "        [ 0.00000000e+00,  0.00000000e+00,  0.00000000e+00, ...,\n",
       "          0.00000000e+00,  0.00000000e+00,  0.00000000e+00],\n",
       "        [ 0.00000000e+00,  0.00000000e+00,  0.00000000e+00, ...,\n",
       "          0.00000000e+00,  0.00000000e+00,  0.00000000e+00]]],\n",
       "      dtype=float32), n_node=array([  5,   8,   6,   4,   9,   7,   9,   9,  11,   9,   7,   8,  10,\n",
       "         6,  10,   7,  10,  12,  10,  11,  11,  13,   7,   5,  13,   9,\n",
       "        12,  13,  11,  13,  11,  11,   9,  10,  10,  12,   8,  12,  12,\n",
       "        10,  10,  12,  10,  10,   6,  10,   8,   9,  14,   9,   9,   9,\n",
       "        11,  14,  10,   8,   6,  12,  12,  15,  13,  13,  15,  15, 417],\n",
       "      dtype=int32), n_edge=array([  20,   56,   30,   12,   72,   42,   72,   72,  110,   72,   42,\n",
       "         56,   90,   30,   90,   42,   78,  130,   88,  110,  110,  154,\n",
       "         42,   20,  156,   72,  132,  154,  110,  156,  110,  108,   70,\n",
       "         90,   90,  132,   56,  132,  132,   90,   90,  130,   88,   90,\n",
       "         30,   88,   54,   70,  180,   72,   72,   70,  110,  182,   88,\n",
       "         54,   28,  128,  132,  208,  154,  154,  184,  192, 8706],\n",
       "      dtype=int32))"
      ]
     },
     "execution_count": 10,
     "metadata": {},
     "output_type": "execute_result"
    }
   ],
   "source": [
    "a, gt, mask = next(iter(dl))\n",
    "a"
   ]
  },
  {
   "cell_type": "code",
   "execution_count": 29,
   "id": "7d8409f8",
   "metadata": {},
   "outputs": [],
   "source": [
    "model = Nequix(jax.random.key(69), basis='sto-3g')"
   ]
  },
  {
   "cell_type": "code",
   "execution_count": 30,
   "id": "2028f5d4",
   "metadata": {},
   "outputs": [],
   "source": [
    "a, gt, mask = next(iter(dl))\n",
    "P = model(a)"
   ]
  },
  {
   "cell_type": "code",
   "execution_count": 34,
   "id": "ed5a57c9",
   "metadata": {},
   "outputs": [
    {
     "data": {
      "text/plain": [
       "<matplotlib.image.AxesImage at 0x14c717d78130>"
      ]
     },
     "execution_count": 34,
     "metadata": {},
     "output_type": "execute_result"
    },
    {
     "data": {
      "image/png": "[encoded data removed]",
      "text/plain": [
       "<Figure size 640x480 with 1 Axes>"
      ]
     },
     "metadata": {},
     "output_type": "display_data"
    }
   ],
   "source": [
    "plt.imshow(P[0])"
   ]
  }
 ],
 "metadata": {
  "kernelspec": {
   "display_name": ".venv",
   "language": "python",
   "name": "python3"
  },
  "language_info": {
   "codemirror_mode": {
    "name": "ipython",
    "version": 3
   },
   "file_extension": ".py",
   "mimetype": "text/x-python",
   "name": "python",
   "nbconvert_exporter": "python",
   "pygments_lexer": "ipython3",
   "version": "3.10.18"
  }
 },
 "nbformat": 4,
 "nbformat_minor": 5
}
